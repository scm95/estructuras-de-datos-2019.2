{
 "cells": [
  {
   "cell_type": "markdown",
   "metadata": {},
   "source": [
    "# Recursión Líneal"
   ]
  },
  {
   "cell_type": "markdown",
   "metadata": {},
   "source": [
    "Recursión líneal no final (Recursión de Pila), cuando se debe realizar una apertura de escenarios, y posteriormente se deben realizar operaciones tras el cierre de cada uno de estos."
   ]
  },
  {
   "cell_type": "code",
   "execution_count": 2,
   "metadata": {},
   "outputs": [
    {
     "name": "stdout",
     "output_type": "stream",
     "text": [
      "Resultado del factorial como ejemplo de líneal no final\n",
      "120\n"
     ]
    }
   ],
   "source": [
    "#Ejemplo del factorial\n",
    "\n",
    "def fact(num):\n",
    "    if(num == 1 or num == 0):\n",
    "        return 1\n",
    "    return num * fact(num - 1)\n",
    "\n",
    "print(\"Resultado del factorial como ejemplo de líneal no final\")\n",
    "print(fact(5))"
   ]
  },
  {
   "cell_type": "markdown",
   "metadata": {},
   "source": [
    "Recursión líneal final (Recuersión de Cola)"
   ]
  },
  {
   "cell_type": "code",
   "execution_count": 22,
   "metadata": {},
   "outputs": [
    {
     "name": "stdout",
     "output_type": "stream",
     "text": [
      "3\n"
     ]
    }
   ],
   "source": [
    "# ejemplo del mínimo común divisor\n",
    "\n",
    "def mcd(n, m):\n",
    "    if(n == m):\n",
    "        return n\n",
    "    if(n > m):\n",
    "        return mcd(n-m, m)\n",
    "    return mcd(n, m-n)\n",
    "\n",
    "print(mcd(15, 18))"
   ]
  },
  {
   "cell_type": "markdown",
   "metadata": {},
   "source": [
    "# Recursión Cruzada o Mútua\n",
    "\n",
    "Cuando se tienen dos funciones, las cuales se hacen llamados entre ellas.\n",
    "    "
   ]
  },
  {
   "cell_type": "code",
   "execution_count": 10,
   "metadata": {},
   "outputs": [
    {
     "name": "stdout",
     "output_type": "stream",
     "text": [
      "1\n"
     ]
    }
   ],
   "source": [
    "# Funciones para conocer si un número es par\n",
    "\n",
    "def esPar(num):\n",
    "    if(num == 0):\n",
    "        return 1\n",
    "    return esImpar(num - 1)\n",
    "\n",
    "def esImpar(num):\n",
    "    if(num == 0):\n",
    "        return 0\n",
    "    return esPar(num-1)\n",
    "\n",
    "print(esPar(8))\n"
   ]
  },
  {
   "cell_type": "markdown",
   "metadata": {},
   "source": [
    "# Recursión Múltiple\n",
    "\n",
    "Cuando se realiza el llamado de la función recursiva n cantidad de veces desde un mismo escenario (n > 1)"
   ]
  },
  {
   "cell_type": "code",
   "execution_count": 12,
   "metadata": {},
   "outputs": [
    {
     "name": "stdout",
     "output_type": "stream",
     "text": [
      "55\n"
     ]
    }
   ],
   "source": [
    "def fib(num):\n",
    "    if(num == 0 or num == 1):\n",
    "        return num\n",
    "    return fib(num-1) + fib(num-2)\n",
    "\n",
    "print(fib(10))"
   ]
  },
  {
   "cell_type": "markdown",
   "metadata": {},
   "source": [
    "# Recursión Anidada\n",
    "\n",
    "Cuando se tiene una función recursiva, la cual dentro de sus parámetros recibe el resultado de un cálculo adicional de ella misma."
   ]
  },
  {
   "cell_type": "code",
   "execution_count": 16,
   "metadata": {},
   "outputs": [],
   "source": [
    "def Ackerman(m, n):\n",
    "    if(m == 0):\n",
    "        return n+1\n",
    "    if(m > 0 and n == 0):\n",
    "        return Ackerman(m-1, 1)\n",
    "    return Ackerman(m-1, Ackerman(m, n-1))"
   ]
  },
  {
   "cell_type": "code",
   "execution_count": 20,
   "metadata": {},
   "outputs": [
    {
     "data": {
      "text/plain": [
       "29"
      ]
     },
     "execution_count": 20,
     "metadata": {},
     "output_type": "execute_result"
    }
   ],
   "source": [
    "Ackerman(3, 2)"
   ]
  },
  {
   "cell_type": "code",
   "execution_count": null,
   "metadata": {},
   "outputs": [],
   "source": []
  }
 ],
 "metadata": {
  "kernelspec": {
   "display_name": "Python 3",
   "language": "python",
   "name": "python3"
  },
  "language_info": {
   "codemirror_mode": {
    "name": "ipython",
    "version": 3
   },
   "file_extension": ".py",
   "mimetype": "text/x-python",
   "name": "python",
   "nbconvert_exporter": "python",
   "pygments_lexer": "ipython3",
   "version": "3.7.3"
  }
 },
 "nbformat": 4,
 "nbformat_minor": 2
}
