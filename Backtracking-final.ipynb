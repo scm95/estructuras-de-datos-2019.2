{
 "cells": [
  {
   "cell_type": "markdown",
   "metadata": {},
   "source": [
    "# Recursión con Backtracking (Vuelta atrás)\n",
    "\n",
    "Esta estrategia Permite evaluar las diferentes opciones que se tienen para resolver un problema dado, y garantiza una solución siempre y cuando exista la posibilidad.\n",
    "\n",
    "Este algoritmo toma una a una cada posibilidad y la evalúa, siguiendo las diferentes ramas que se pueden generar después de cada estado del problema, cuando elige uno incorrecto se regresa al estado anterior y verifica la siguiente opción. Un caso típico es un laberinto, el cual puede tener varias opciones de camino a seguir, tomando una de las opciones y siguiendo hasta encontrar un camino sin salida (lo que genera que se regrese hasta el estado anterior) o la salida."
   ]
  },
  {
   "cell_type": "code",
   "execution_count": 13,
   "metadata": {},
   "outputs": [
    {
     "name": "stdout",
     "output_type": "stream",
     "text": [
      "[[0, 0, 1, 0], [1, 0, 0, 0], [0, 0, 0, 1], [0, 1, 0, 0]]\n",
      "board by cosa\n",
      "[0, 0, 1, 0]\n",
      "[1, 0, 0, 0]\n",
      "[0, 0, 0, 1]\n",
      "[0, 1, 0, 0]\n"
     ]
    }
   ],
   "source": [
    "# Python program to solve N Queen  \n",
    "# Problem using recursive backtracking \n",
    "  \n",
    "global matrixSize # number of positions in matrix (N x N)\n",
    "matrixSize = 4  \n",
    "   \n",
    "def isQueenSafe(board, row, col): \n",
    "  \n",
    "    # Check if there is a queen in this row  \n",
    "    for i in range(col): # for instance, if col == 4, range is 0, 1, 2, 3\n",
    "        if board[row][i] == 1: # only the value of a position is 1 when there is a queen.\n",
    "            return False # when exists a queen in the same row then return false\n",
    "  \n",
    "    # Check upper diagonal on left side (because the right side are not queens yet)\n",
    "    # Do you have a doubt about how zip works? please review https://docs.python.org/3/library/functions.html#zip\n",
    "    # I had write an example of zip functionallity in the next cell of this notebook\n",
    "    for i,j in zip(range(row,-1,-1), range(col,-1,-1)): \n",
    "        if board[i][j] == 1: \n",
    "            return False\n",
    "  \n",
    "    # Check lower diagonal on left side (because the right side are not queens yet)\n",
    "    for i,j in zip(range(row,matrixSize,1), range(col,-1,-1)): \n",
    "        if board[i][j] == 1: \n",
    "            return False\n",
    "  \n",
    "    return True\n",
    "\n",
    "# this is the function with a empty board (the first time) and the column index (it starts in 0)\n",
    "def solveNQRecursiveBacktracking(board, col): \n",
    "    # base case: If all queens are placed \n",
    "    # then return true \n",
    "    if col >= matrixSize: \n",
    "        return True\n",
    "  \n",
    "    # Consider this column and try placing \n",
    "    # this queen in all rows one by one \n",
    "    for i in range(matrixSize): \n",
    "  \n",
    "        if isQueenSafe(board, i, col): \n",
    "            # Place this queen in board position [i][col] \n",
    "            board[i][col] = 1\n",
    "  \n",
    "            # set the queen in the rest of places\n",
    "            if solveNQRecursiveBacktracking(board, col + 1): \n",
    "                return True\n",
    "  \n",
    "            # If placing queen in board[i][col \n",
    "            # doesn't lead to a solution, then \n",
    "            # queen from board[i][col] = 0 \n",
    "            board[i][col] = 0\n",
    "  \n",
    "    # if the queen can not be placed in any row in \n",
    "    # this colum col  then return false \n",
    "    return False\n",
    "  \n",
    "# This function start the process to solve the N Queen problem using Recursive Backtracking.  \n",
    "def solveNQ(): \n",
    "    board = [[0 for i in range(matrixSize)] for j in range(matrixSize)]\n",
    "  \n",
    "    if not solveNQRecursiveBacktracking(board, 0): \n",
    "        print(\"Solution does not exist!\")\n",
    "    else:\n",
    "        for boardRow in board: \n",
    "            print (boardRow)\n",
    "  \n",
    "# test the function \n",
    "solveNQ() \n",
    "  "
   ]
  },
  {
   "cell_type": "code",
   "execution_count": 5,
   "metadata": {},
   "outputs": [
    {
     "name": "stdout",
     "output_type": "stream",
     "text": [
      "3\n",
      "5\n",
      "7\n",
      "9\n",
      "11\n",
      "13\n"
     ]
    }
   ],
   "source": [
    "#range (start, stop, step)\n",
    "for i in range (3, 15, 2):\n",
    "    #for(int i = 3; i< 15; i += 2)\n",
    "    print(i)"
   ]
  },
  {
   "cell_type": "code",
   "execution_count": 10,
   "metadata": {
    "scrolled": true
   },
   "outputs": [
    {
     "name": "stdout",
     "output_type": "stream",
     "text": [
      "[0, 0, 0, 0]\n",
      "--------\n",
      "[[0, 0, 0, 0], [0, 0, 0, 0], [0, 0, 0, 0], [0, 0, 0, 0]]\n",
      "--------\n",
      "[0, 0, 0, 0]\n",
      "[0, 0, 0, 0]\n",
      "[0, 0, 0, 0]\n",
      "[0, 0, 0, 0]\n"
     ]
    }
   ],
   "source": [
    "a = [0 for i in range(4)]\n",
    "b = [a  for j in range(4)]\n",
    "print(a)\n",
    "print(\"--------\")\n",
    "print(b)\n",
    "print(\"--------\")\n",
    "for array in b:\n",
    "    print(array)"
   ]
  },
  {
   "cell_type": "code",
   "execution_count": 2,
   "metadata": {},
   "outputs": [
    {
     "name": "stdout",
     "output_type": "stream",
     "text": [
      "Lower Diagonal\n",
      "[(1, 3), (2, 2), (3, 1)]\n",
      "\n",
      "---------------\n",
      "\n",
      "Upper Diagonal\n",
      "[(1, 3), (0, 2)]\n"
     ]
    }
   ],
   "source": [
    "# This is the zip example... :-)\n",
    "\n",
    "# We can imagine a matrix 4x4 where 1 is a queen and 0 is an empty space as below\n",
    "\n",
    "#  0 0 1 0   when we validate the positions of (1, 3), there are three errors...\n",
    "#  1 0 0 1   1. There is a queen in the same row (1, 0). \n",
    "#  0 0 0 0   2. The lower-left diagonal shows a queen at (3, 1). That is one of the coordenates in zip(...) \n",
    "#  0 1 0 0   3. THE UPPER-LEFT DIAGONAL SHOWS A QUEEN AT (0,2)\n",
    "\n",
    "\n",
    "# the range function can be receive two or three parameters\n",
    "# range(start, stop[, step])\n",
    "\n",
    "print(\"Lower Diagonal\")\n",
    "# This line generates the coordenates for the lower diagonal from (1, 3) til the left edge\n",
    "print(list(zip(range(1,matrixSize,1), range(3,-1,-1))))\n",
    "\n",
    "print(\"\\n---------------\\n\")\n",
    "\n",
    "print(\"Upper Diagonal\")\n",
    "# This line generates the coordenates for the upper diagonal from (3, 4) til the left edge\n",
    "print(list(zip(range(1,-1,-1), range(3,-1,-1))))"
   ]
  },
  {
   "cell_type": "markdown",
   "metadata": {},
   "source": [
    "# Ejercicios\n",
    "\n",
    "<font color='red'>Realizar el desarrollo de los siguientes ejercicios siguiendo la técnica de backtracking recursiva.</font>"
   ]
  },
  {
   "cell_type": "markdown",
   "metadata": {},
   "source": [
    "1. Desarrollar el problema del cuadro mágico (magic square), el cual consiste en definir una matriz de números de N x N, donde <font color='red'>(N >= 3) y (N % 2 = 1)</font>. Además, la sumatoria de cualquier fila, columna o diagonal siempre dan el mismo resultado.\n",
    "    Para este ejercicio, se calcula el total que debe dar siguiendo la siguiente fórmula:\n",
    "    \n",
    "    <font color='blue'>TotalSuma = (N * (N**2 + 1)) / 2</font>\n",
    "    \n",
    "    A continuación se muestra la solución con backtracking sin recursión"
   ]
  },
  {
   "cell_type": "code",
   "execution_count": 15,
   "metadata": {},
   "outputs": [
    {
     "name": "stdout",
     "output_type": "stream",
     "text": [
      "175.0\n",
      "[0, 0, 0, 0, 0, 0, 0]\n",
      "[0, 0, 0, 0, 0, 0, 0]\n",
      "[0, 0, 0, 0, 0, 0, 0]\n",
      "[0, 0, 0, 0, 0, 0, 0]\n",
      "[0, 0, 0, 0, 0, 0, 0]\n",
      "[0, 0, 0, 0, 0, 0, 0]\n",
      "[0, 0, 0, 0, 0, 0, 0]\n",
      "\n",
      " ---------------------------------- \n",
      "\n",
      "[30, 39, 48, 1, 10, 19, 28]\n",
      "[38, 47, 7, 9, 18, 27, 29]\n",
      "[46, 6, 8, 17, 26, 35, 37]\n",
      "[5, 14, 16, 25, 34, 36, 45]\n",
      "[13, 15, 24, 33, 42, 44, 4]\n",
      "[21, 23, 32, 41, 43, 3, 12]\n",
      "[22, 31, 40, 49, 2, 11, 20]\n"
     ]
    }
   ],
   "source": [
    "# Ejemplo del cuadro mágico de forma backtracking tradicional sin utilizar la recursión    \n",
    "    \n",
    "def magicSquare(matrixSize):\n",
    "    total = (matrixSize * (matrixSize**2 + 1)) / 2\n",
    "    print(total)\n",
    "    if matrixSize >= 3: # This number can be changed by another larger and odd number\n",
    "        matrix =[[0 for i in range(matrixSize)] for j in range(matrixSize)]\n",
    "        for fila in matrix:\n",
    "            print(fila)\n",
    "        row= 0;\n",
    "        col= matrixSize//2;\n",
    "        print (\"\\n ---------------------------------- \\n\")\n",
    "        for i in range(1,matrixSize**2 + 1):\n",
    "            matrix[row][col]= i;\n",
    "            brow = row+1;\n",
    "            bcol = col+1;\n",
    "            row=int((row+matrixSize-1)%matrixSize);\n",
    "            col=int((col+1)%matrixSize);\n",
    "            if matrix[row][col]!=0:\n",
    "                row=brow;\n",
    "                col=bcol-1;\n",
    "    for row in matrix:\n",
    "        print(row)\n",
    "magicSquare(7)"
   ]
  },
  {
   "cell_type": "markdown",
   "metadata": {},
   "source": [
    "2. Realizar el desarrollo de la solución del problema del cuadro mágico 1, 2 y 3 siguiendo la estrategia de backtracking recursivo. \n",
    "    \n",
    "    Este problema consiste en una matríz de 3x3, donde se debe incluir los números del 1 al 3. Las condiciones para ubicar los números son las siguientes:\n",
    "\n",
    "    <font color=\"red\">- Cada una de las 3 columnas deben contener los 3 números (1, 2 y 3).</font><br />\n",
    "    <font color=\"red\">- Cada una de las 3 filas deben contener los 3 números(1, 2 y 3).</font><br />\n",
    "    <font color=\"red\">- Un mismo número no debe estar en la misma fila más de una vez.</font><br />\n",
    "    <font color=\"red\">- Un mismo número no debe estar en la misma columna más de una vez.</font><br />\n",
    "    <font color=\"red\">- En las diagonales si se puede llegar a repetir un mismo número más de una vez.</font>\n",
    "\n",
    "    A continuación, se presenta un ejemplo de solución de este problema.\n",
    "\n",
    "\n",
    "        1 - 3 - 2\n",
    "        3 - 2 - 1\n",
    "        2 - 1 - 3\n",
    "\n",
    "    "
   ]
  }
 ],
 "metadata": {
  "kernelspec": {
   "display_name": "Python 3",
   "language": "python",
   "name": "python3"
  },
  "language_info": {
   "codemirror_mode": {
    "name": "ipython",
    "version": 3
   },
   "file_extension": ".py",
   "mimetype": "text/x-python",
   "name": "python",
   "nbconvert_exporter": "python",
   "pygments_lexer": "ipython3",
   "version": "3.7.1"
  }
 },
 "nbformat": 4,
 "nbformat_minor": 2
}
